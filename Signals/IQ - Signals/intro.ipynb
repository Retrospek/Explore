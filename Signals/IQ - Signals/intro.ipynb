{
 "cells": [
  {
   "cell_type": "markdown",
   "id": "b2721090",
   "metadata": {},
   "source": [
    "# **IQ Data Intuition**"
   ]
  },
  {
   "cell_type": "code",
   "execution_count": 1,
   "id": "eb44d901",
   "metadata": {},
   "outputs": [],
   "source": [
    "import numpy as np\n",
    "import math \n",
    "import random "
   ]
  },
  {
   "cell_type": "markdown",
   "id": "97e26a3c",
   "metadata": {},
   "source": []
  }
 ],
 "metadata": {
  "kernelspec": {
   "display_name": "venv",
   "language": "python",
   "name": "python3"
  },
  "language_info": {
   "codemirror_mode": {
    "name": "ipython",
    "version": 3
   },
   "file_extension": ".py",
   "mimetype": "text/x-python",
   "name": "python",
   "nbconvert_exporter": "python",
   "pygments_lexer": "ipython3",
   "version": "3.12.10"
  }
 },
 "nbformat": 4,
 "nbformat_minor": 5
}
