{
 "cells": [
  {
   "cell_type": "markdown",
   "id": "a2732d53",
   "metadata": {},
   "source": [
    "# **VAE Implementation**"
   ]
  },
  {
   "cell_type": "code",
   "execution_count": 4,
   "id": "90c3cd18",
   "metadata": {},
   "outputs": [
    {
     "name": "stdout",
     "output_type": "stream",
     "text": [
      "Torch Version: 2.7.1+cu118\n",
      "-> Device: cuda\n",
      "Numpy Version: 2.2.3\n",
      "Matplotlib Version: 3.10.0\n",
      "Pandas Version: 2.2.3\n"
     ]
    }
   ],
   "source": [
    "import torch\n",
    "import torch.nn as nn\n",
    "import torch.optim as optim\n",
    "import torch.functional as F\n",
    "from torch.utils.data import Dataset, DataLoader\n",
    "device = \"cuda\" if torch.cuda.is_available() else \"cpu\"\n",
    "print(f\"Torch Version: {torch.__version__}\")\n",
    "print(f\"-> Device: {device}\")\n",
    "\n",
    "import numpy as np\n",
    "print(f\"Numpy Version: {np.__version__}\")\n",
    "\n",
    "import matplotlib\n",
    "import matplotlib.pyplot as plt\n",
    "print(f\"Matplotlib Version: {matplotlib.__version__}\")\n",
    "\n",
    "import pandas as pd\n",
    "print(f\"Pandas Version: {pd.__version__}\")"
   ]
  },
  {
   "cell_type": "markdown",
   "id": "298b20a3",
   "metadata": {},
   "source": [
    "## **Data Management & Setup**"
   ]
  },
  {
   "cell_type": "markdown",
   "id": "41657ec7",
   "metadata": {},
   "source": [
    "**Dataset Description**: We will be utilizing the famous MNIST digit dataset and we will attempt to create a generative VAE that has the ability to denoise images from MNIST using synthetic Gaussian Noise"
   ]
  },
  {
   "cell_type": "code",
   "execution_count": 13,
   "id": "1fad5f94",
   "metadata": {},
   "outputs": [
    {
     "name": "stdout",
     "output_type": "stream",
     "text": [
      "Columns: Index(['label', '1x1', '1x2', '1x3', '1x4', '1x5', '1x6', '1x7', '1x8', '1x9',\n",
      "       ...\n",
      "       '28x19', '28x20', '28x21', '28x22', '28x23', '28x24', '28x25', '28x26',\n",
      "       '28x27', '28x28'],\n",
      "      dtype='object', length=785)\n",
      "Train Dataset Length: 60000\n",
      "Test Dataset Length: 10000\n"
     ]
    }
   ],
   "source": [
    "train = pd.read_csv(\"C:/Users/lordw/OneDrive/Documents/ML/MLprojects/Explore/data/MNIST/mnist_train.csv\")\n",
    "test = pd.read_csv(\"C:/Users/lordw/OneDrive/Documents/ML/MLprojects/Explore/data/MNIST/mnist_test.csv\")\n",
    "\n",
    "print(f\"Columns: {train.columns}\")\n",
    "\n",
    "print(f\"Train Dataset Length: {len(train)}\")\n",
    "print(f\"Test Dataset Length: {len(test)}\")"
   ]
  },
  {
   "cell_type": "code",
   "execution_count": null,
   "id": "59ecf70f",
   "metadata": {},
   "outputs": [],
   "source": [
    "class mnistDataset(Dataset):\n",
    "    def __init__(self, data):\n",
    "        self.features = data"
   ]
  }
 ],
 "metadata": {
  "kernelspec": {
   "display_name": "venv",
   "language": "python",
   "name": "python3"
  },
  "language_info": {
   "codemirror_mode": {
    "name": "ipython",
    "version": 3
   },
   "file_extension": ".py",
   "mimetype": "text/x-python",
   "name": "python",
   "nbconvert_exporter": "python",
   "pygments_lexer": "ipython3",
   "version": "3.12.10"
  }
 },
 "nbformat": 4,
 "nbformat_minor": 5
}
